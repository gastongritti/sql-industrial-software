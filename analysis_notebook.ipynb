{
 "cells": [
  {
   "cell_type": "markdown",
   "id": "8f20f13f",
   "metadata": {},
   "source": [
    "# Análisis de Datos - Software de Planta Industrial\n",
    "En este notebook se realiza un análisis sobre datos extraídos de un software utilizado en diferentes procesos de una planta fabril.\n",
    "\n",
    "Se pretende obtener un resumen por operario que contenga los siguientes datos:\n",
    "- Horas totales en el mes.\n",
    "- Horas en cada proceso productivo, otras actividades y/o paradas.\n",
    "- Rendimiento en cada proceso productivo.\n",
    "\n",
    "Por otro lado, se realiza un análisis del proceso de \"Corte de Ladrillos\" observando la producción a lo largo del mes y la variación en el rendimiento por operario."
   ]
  },
  {
   "cell_type": "markdown",
   "id": "42f8bb6c",
   "metadata": {},
   "source": [
    "## Importar librerías"
   ]
  },
  {
   "cell_type": "code",
   "execution_count": null,
   "id": "042d2f49",
   "metadata": {},
   "outputs": [],
   "source": [
    "from sqlalchemy import text\n",
    "import pandas as pd\n",
    "import matplotlib.pyplot as plt\n",
    "from db_utils import get_engine"
   ]
  },
  {
   "cell_type": "markdown",
   "id": "41068662",
   "metadata": {},
   "source": [
    "## Conectar a Base de Datos"
   ]
  },
  {
   "cell_type": "code",
   "execution_count": null,
   "id": "3d7f2e0d",
   "metadata": {},
   "outputs": [],
   "source": [
    "engine = get_engine()"
   ]
  },
  {
   "cell_type": "markdown",
   "id": "783199ce",
   "metadata": {},
   "source": [
    "## Análisis de Operarios"
   ]
  },
  {
   "cell_type": "markdown",
   "id": "bf06654d",
   "metadata": {},
   "source": [
    "### Cargar datos de operarios"
   ]
  },
  {
   "cell_type": "code",
   "execution_count": null,
   "id": "78b05da1",
   "metadata": {},
   "outputs": [],
   "source": [
    "min_procesos = 2\n",
    "\n",
    "query = text('''\n",
    "SELECT \n",
    "    u.id_usuario AS ID,\n",
    "    u.nombre AS NOMBRE,\n",
    "    u.apellido AS APELLIDO,\n",
    "    COUNT(DISTINCT p.origen) AS PROCESOS\n",
    "FROM \n",
    "    usuarios u\n",
    "JOIN (\n",
    "        SELECT\n",
    "            id_usuario,\n",
    "            'pprod_cortelad' AS origen \n",
    "        FROM pprod_cortelad\n",
    "\n",
    "        UNION\n",
    "\n",
    "        SELECT\n",
    "            id_usuario,\n",
    "            'pprod_inyeccion' AS origen \n",
    "        FROM pprod_inyeccion\n",
    "\n",
    "        UNION\n",
    "\n",
    "        SELECT\n",
    "            id_usuario,\n",
    "            'pprod_embolsado' AS origen \n",
    "        FROM pprod_embolsado\n",
    "    ) p \n",
    "    ON u.id_usuario = p.id_usuario\n",
    "GROUP BY \n",
    "    u.id_usuario, \n",
    "    u.nombre\n",
    "HAVING COUNT(DISTINCT p.origen) >= :min_procesos\n",
    "ORDER BY PROCESOS desc;\n",
    "''')\n",
    "\n",
    "df = pd.read_sql(query, engine, params={\"min_procesos\": min_procesos})\n",
    "print(df)"
   ]
  },
  {
   "cell_type": "markdown",
   "id": "6b176ae2",
   "metadata": {},
   "source": [
    "## Análisis exploratorio"
   ]
  },
  {
   "cell_type": "code",
   "execution_count": null,
   "id": "0fe756af",
   "metadata": {},
   "outputs": [],
   "source": [
    "print(df.head())\n",
    "print(df.describe())"
   ]
  },
  {
   "cell_type": "markdown",
   "id": "2c91bdc3",
   "metadata": {},
   "source": [
    "## Visualización"
   ]
  },
  {
   "cell_type": "code",
   "execution_count": null,
   "id": "856a1d5d",
   "metadata": {},
   "outputs": [],
   "source": [
    "plt.figure(figsize=(10,5))\n",
    "df.groupby(\"fecha\")[\"ventas\"].sum().plot()\n",
    "plt.title(\"Ventas diarias\")\n",
    "plt.xlabel(\"Fecha\")\n",
    "plt.ylabel(\"Total ventas\")\n",
    "plt.show()"
   ]
  }
 ],
 "metadata": {
  "kernelspec": {
   "display_name": ".venv (3.13.3)",
   "language": "python",
   "name": "python3"
  },
  "language_info": {
   "codemirror_mode": {
    "name": "ipython",
    "version": 3
   },
   "file_extension": ".py",
   "mimetype": "text/x-python",
   "name": "python",
   "nbconvert_exporter": "python",
   "pygments_lexer": "ipython3",
   "version": "3.13.3"
  }
 },
 "nbformat": 4,
 "nbformat_minor": 5
}
